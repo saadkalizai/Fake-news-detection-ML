{
  "nbformat": 4,
  "nbformat_minor": 0,
  "metadata": {
    "colab": {
      "provenance": [],
      "gpuType": "T4"
    },
    "kernelspec": {
      "name": "python3",
      "display_name": "Python 3"
    },
    "language_info": {
      "name": "python"
    },
    "accelerator": "GPU"
  },
  "cells": [
    {
      "cell_type": "code",
      "execution_count": null,
      "metadata": {
        "id": "8yMw2ZvJEgLR"
      },
      "outputs": [],
      "source": []
    },
    {
      "cell_type": "code",
      "source": [
        "import numpy as np\n",
        "import pandas as pd\n",
        "import itertools\n",
        "from sklearn.metrics import accuracy_score, confusion_matrix"
      ],
      "metadata": {
        "id": "5QyJa2d4QfUU"
      },
      "execution_count": 1,
      "outputs": []
    },
    {
      "cell_type": "code",
      "source": [
        "df = pd.read_csv('/content/news.csv', encoding='ISO-8859-1')\n",
        "\n",
        "df['text'] = df['text'].str.replace(r'[^\\x00-\\x7F]+', '')\n",
        "\n",
        "df.to_csv('/content/news.csv', index=False)"
      ],
      "metadata": {
        "colab": {
          "base_uri": "https://localhost:8080/"
        },
        "id": "_cCasvQ3FS6b",
        "outputId": "82fd62f9-4c8d-4d4f-8aaf-99a3a0a7029b"
      },
      "execution_count": 3,
      "outputs": [
        {
          "output_type": "stream",
          "name": "stderr",
          "text": [
            "<ipython-input-3-a277be9a7702>:1: DtypeWarning: Columns (24,25,26,27,28,29,30,31,32,33,34,35,36,37,38,39,40,41,42,43,44,45,46,47,48,49,50,51,52,53,54,55,56,57,58,59,60,61,62,63,64,65,66,67,68,69,70,71,72,73,74,75,76,77,78,79,80,81,82,83,84,85,86,87,88,89,90,91,92,93,94,95,96,97,98,99,100,101,102,103,104,105,106,107,108,109,110,111,112,113,114,115,116,117,118,119,120,121,122,123,124,125,126,127,128,129,130,131,132,133,134,135,136,137,138,139,140) have mixed types. Specify dtype option on import or set low_memory=False.\n",
            "  df = pd.read_csv('/content/news.csv', encoding='ISO-8859-1')\n",
            "<ipython-input-3-a277be9a7702>:3: FutureWarning: The default value of regex will change from True to False in a future version.\n",
            "  df['text'] = df['text'].str.replace(r'[^\\x00-\\x7F]+', '')\n"
          ]
        }
      ]
    },
    {
      "cell_type": "code",
      "source": [
        "print(\"Shape of the DataFrame:\", df.shape)\n",
        "print(df.head())"
      ],
      "metadata": {
        "colab": {
          "base_uri": "https://localhost:8080/"
        },
        "id": "CRxSPFB1FfgI",
        "outputId": "b456a340-2175-42e2-a49e-31c52773c5a7"
      },
      "execution_count": 4,
      "outputs": [
        {
          "output_type": "stream",
          "name": "stdout",
          "text": [
            "Shape of the DataFrame: (7795, 141)\n",
            "  Unnamed: 0                                              title  \\\n",
            "0       8476                     You Can Smell Hillaryâs Fear   \n",
            "1      10294  Watch The Exact Moment Paul Ryan Committed Pol...   \n",
            "2       3608        Kerry to go to Paris in gesture of sympathy   \n",
            "3      10142  Bernie supporters on Twitter erupt in anger ag...   \n",
            "4        875   The Battle of New York: Why This Primary Matters   \n",
            "\n",
            "                                                text label Unnamed: 4  \\\n",
            "0  Daniel Greenfield, a Shillman Journalism Fello...  FAKE        NaN   \n",
            "1  Google Pinterest Digg Linkedin Reddit Stumbleu...  FAKE        NaN   \n",
            "2  U.S. Secretary of State John F. Kerry said Mon...  REAL        NaN   \n",
            "3   Kaydee King (@KaydeeKing) November 9, 2016 Th...  FAKE        NaN   \n",
            "4  It's primary day in New York and front-runners...  REAL        NaN   \n",
            "\n",
            "  Unnamed: 5 Unnamed: 6 Unnamed: 7 Unnamed: 8 Unnamed: 9  ... Unnamed: 131  \\\n",
            "0        NaN        NaN        NaN        NaN        NaN  ...          NaN   \n",
            "1        NaN        NaN        NaN        NaN        NaN  ...          NaN   \n",
            "2        NaN        NaN        NaN        NaN        NaN  ...          NaN   \n",
            "3        NaN        NaN        NaN        NaN        NaN  ...          NaN   \n",
            "4        NaN        NaN        NaN        NaN        NaN  ...          NaN   \n",
            "\n",
            "  Unnamed: 132 Unnamed: 133 Unnamed: 134 Unnamed: 135 Unnamed: 136  \\\n",
            "0          NaN          NaN          NaN          NaN          NaN   \n",
            "1          NaN          NaN          NaN          NaN          NaN   \n",
            "2          NaN          NaN          NaN          NaN          NaN   \n",
            "3          NaN          NaN          NaN          NaN          NaN   \n",
            "4          NaN          NaN          NaN          NaN          NaN   \n",
            "\n",
            "  Unnamed: 137 Unnamed: 138 Unnamed: 139 Unnamed: 140  \n",
            "0          NaN          NaN          NaN          NaN  \n",
            "1          NaN          NaN          NaN          NaN  \n",
            "2          NaN          NaN          NaN          NaN  \n",
            "3          NaN          NaN          NaN          NaN  \n",
            "4          NaN          NaN          NaN          NaN  \n",
            "\n",
            "[5 rows x 141 columns]\n"
          ]
        }
      ]
    },
    {
      "cell_type": "code",
      "source": [
        "df = pd.read_csv('/content/news.csv')\n",
        "\n",
        "df = df.dropna(axis=1, how='all')"
      ],
      "metadata": {
        "colab": {
          "base_uri": "https://localhost:8080/"
        },
        "id": "EgQMIWfAHalU",
        "outputId": "dfd577e3-2eb4-4e1b-ad38-30ca4401b8ff"
      },
      "execution_count": 5,
      "outputs": [
        {
          "output_type": "stream",
          "name": "stderr",
          "text": [
            "<ipython-input-5-0d8d08dc844b>:1: DtypeWarning: Columns (24,25,26,27,28,29,30,31,32,33,34,35,36,37,38,39,40,41,42,43,44,45,46,47,48,49,50,51,52,53,54,55,56,57,58,59,60,61,62,63,64,65,66,67,68,69,70,71,72,73,74,75,76,77,78,79,80,81,82,83,84,85,86,87,88,89,90,91,92,93,94,95,96,97,98,99,100,101,102,103,104,105,106,107,108,109,110,111,112,113,114,115,116,117,118,119,120,121,122,123,124,125,126,127,128,129,130,131,132,133,134,135,136,137,138,139,140) have mixed types. Specify dtype option on import or set low_memory=False.\n",
            "  df = pd.read_csv('/content/news.csv')\n"
          ]
        }
      ]
    },
    {
      "cell_type": "code",
      "source": [
        "missing_data = df.isnull().sum()\n",
        "print(\"Missing Data:\\n\", missing_data)\n",
        "\n",
        "print(\"Shape of the DataFrame after cleaning:\", df.shape)"
      ],
      "metadata": {
        "colab": {
          "base_uri": "https://localhost:8080/"
        },
        "id": "QezlXNpLHgKi",
        "outputId": "1d224714-df71-4916-8270-9c2d3bd343c0"
      },
      "execution_count": 6,
      "outputs": [
        {
          "output_type": "stream",
          "name": "stdout",
          "text": [
            "Missing Data:\n",
            " Unnamed: 0       219\n",
            "title            610\n",
            "text             866\n",
            "label           1040\n",
            "Unnamed: 4      7477\n",
            "                ... \n",
            "Unnamed: 136    7794\n",
            "Unnamed: 137    7794\n",
            "Unnamed: 138    7794\n",
            "Unnamed: 139    7794\n",
            "Unnamed: 140    7794\n",
            "Length: 141, dtype: int64\n",
            "Shape of the DataFrame after cleaning: (7795, 141)\n"
          ]
        }
      ]
    },
    {
      "cell_type": "code",
      "source": [
        "numerical_columns = ['Unnamed: 0']\n",
        "df[numerical_columns] = df[numerical_columns].fillna(df[numerical_columns].mean())\n",
        "\n",
        "text_columns = ['title', 'text']\n",
        "df[text_columns] = df[text_columns].fillna('')\n",
        "\n",
        "df['label'] = df['label'].fillna(df['label'].mode()[0])\n",
        "\n",
        "missing_data = df.isnull().sum()\n",
        "print(\"Missing Data after handling:\\n\", missing_data)\n",
        "\n",
        "print(\"Shape of the DataFrame after handling missing values:\", df.shape)"
      ],
      "metadata": {
        "id": "kHE9poXNHyVl",
        "colab": {
          "base_uri": "https://localhost:8080/"
        },
        "outputId": "d2bd0176-91f4-4d24-8221-a3d14dc33336"
      },
      "execution_count": 7,
      "outputs": [
        {
          "output_type": "stream",
          "name": "stdout",
          "text": [
            "Missing Data after handling:\n",
            " Unnamed: 0       219\n",
            "title              0\n",
            "text               0\n",
            "label              0\n",
            "Unnamed: 4      7477\n",
            "                ... \n",
            "Unnamed: 136    7794\n",
            "Unnamed: 137    7794\n",
            "Unnamed: 138    7794\n",
            "Unnamed: 139    7794\n",
            "Unnamed: 140    7794\n",
            "Length: 141, dtype: int64\n",
            "Shape of the DataFrame after handling missing values: (7795, 141)\n"
          ]
        },
        {
          "output_type": "stream",
          "name": "stderr",
          "text": [
            "<ipython-input-7-9660810ad7a3>:2: FutureWarning: The default value of numeric_only in DataFrame.mean is deprecated. In a future version, it will default to False. In addition, specifying 'numeric_only=None' is deprecated. Select only valid columns or specify the value of numeric_only to silence this warning.\n",
            "  df[numerical_columns] = df[numerical_columns].fillna(df[numerical_columns].mean())\n"
          ]
        }
      ]
    },
    {
      "cell_type": "code",
      "source": [
        "labels=df.label\n",
        "labels.head()"
      ],
      "metadata": {
        "id": "GkGRf05fIB_x",
        "colab": {
          "base_uri": "https://localhost:8080/"
        },
        "outputId": "5f07a289-c6c3-47c7-99ad-775056a0e210"
      },
      "execution_count": 8,
      "outputs": [
        {
          "output_type": "execute_result",
          "data": {
            "text/plain": [
              "0    FAKE\n",
              "1    FAKE\n",
              "2    REAL\n",
              "3    FAKE\n",
              "4    REAL\n",
              "Name: label, dtype: object"
            ]
          },
          "metadata": {},
          "execution_count": 8
        }
      ]
    },
    {
      "cell_type": "code",
      "source": [
        "from sklearn.model_selection import train_test_split\n",
        "x_train,x_test,y_train,y_test=train_test_split(df['text'], labels, test_size=0.2, random_state=7)"
      ],
      "metadata": {
        "id": "AEq8UbypI2My"
      },
      "execution_count": 9,
      "outputs": []
    },
    {
      "cell_type": "code",
      "source": [
        "from sklearn.feature_extraction.text import TfidfVectorizer\n",
        "\n",
        "tfidf_vectorizer=TfidfVectorizer(stop_words='english', max_df=0.7)\n",
        "\n",
        "tfidf_train=tfidf_vectorizer.fit_transform(x_train)\n",
        "tfidf_test=tfidf_vectorizer.transform(x_test)"
      ],
      "metadata": {
        "id": "Lfi9ZCOIKdhj"
      },
      "execution_count": 10,
      "outputs": []
    },
    {
      "cell_type": "code",
      "source": [
        "from sklearn.linear_model import PassiveAggressiveClassifier\n",
        "from sklearn.metrics import accuracy_score, confusion_matrix\n",
        "pac=PassiveAggressiveClassifier(max_iter=50)\n",
        "pac.fit(tfidf_train,y_train)\n",
        "y_pred=pac.predict(tfidf_test)\n",
        "score=accuracy_score(y_test,y_pred)\n",
        "print(f'Accuracy: {round(score*100,2)}%')"
      ],
      "metadata": {
        "id": "1zvWbr2WOoCg",
        "colab": {
          "base_uri": "https://localhost:8080/"
        },
        "outputId": "952b182a-1771-445f-fbc4-fa1cbc59f099"
      },
      "execution_count": 11,
      "outputs": [
        {
          "output_type": "stream",
          "name": "stdout",
          "text": [
            "Accuracy: 76.46%\n"
          ]
        }
      ]
    },
    {
      "cell_type": "code",
      "source": [
        "\n",
        "confusion_matrix(y_test,y_pred, labels=['FAKE','REAL'])"
      ],
      "metadata": {
        "colab": {
          "base_uri": "https://localhost:8080/"
        },
        "id": "QD_hQcGiX-Vf",
        "outputId": "fc5b0286-eccd-44b8-e999-8cd73f619a6b"
      },
      "execution_count": 12,
      "outputs": [
        {
          "output_type": "execute_result",
          "data": {
            "text/plain": [
              "array([[578,  38],\n",
              "       [240, 614]])"
            ]
          },
          "metadata": {},
          "execution_count": 12
        }
      ]
    },
    {
      "cell_type": "code",
      "source": [
        "\n"
      ],
      "metadata": {
        "id": "s-YBzAItYzLU"
      },
      "execution_count": 15,
      "outputs": []
    },
    {
      "cell_type": "code",
      "source": [],
      "metadata": {
        "id": "TtxmXyqQZ8IO"
      },
      "execution_count": 15,
      "outputs": []
    },
    {
      "cell_type": "code",
      "source": [],
      "metadata": {
        "id": "LuXuPxuAaWDo"
      },
      "execution_count": null,
      "outputs": []
    }
  ]
}